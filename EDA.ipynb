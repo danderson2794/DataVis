{
 "cells": [
  {
   "cell_type": "code",
   "execution_count": 1,
   "metadata": {
    "collapsed": true
   },
   "outputs": [],
   "source": [
    "import pandas as pd\n",
    "import matplotlib.pyplot as plt\n",
    "import seaborn as sns\n",
    "import numpy as np\n",
    "from scipy import stats\n",
    "\n",
    "# now importing the data.\n",
    "df = pd.read_csv('wines.csv')"
   ]
  },
  {
   "cell_type": "markdown",
   "source": [
    "Below, we will take a look at the data. I'm going to keep\n",
    "the code below for teammates until they are comfortable with EDA\n",
    "and Jupyter Notebooks.\n"
   ],
   "metadata": {
    "collapsed": false,
    "pycharm": {
     "name": "#%% md\n"
    }
   }
  },
  {
   "cell_type": "code",
   "execution_count": 17,
   "outputs": [
    {
     "name": "stdout",
     "output_type": "stream",
     "text": [
      "<class 'pandas.core.frame.DataFrame'>\n",
      "Int64Index: 22387 entries, 4 to 129950\n",
      "Data columns (total 14 columns):\n",
      " #   Column                 Non-Null Count  Dtype  \n",
      "---  ------                 --------------  -----  \n",
      " 0   Unnamed: 0             22387 non-null  float64\n",
      " 1   country                22387 non-null  object \n",
      " 2   description            22387 non-null  object \n",
      " 3   designation            22387 non-null  object \n",
      " 4   points                 22387 non-null  int64  \n",
      " 5   price                  22387 non-null  float64\n",
      " 6   province               22387 non-null  object \n",
      " 7   region_1               22387 non-null  object \n",
      " 8   region_2               22387 non-null  object \n",
      " 9   taster_name            22387 non-null  object \n",
      " 10  taster_twitter_handle  22387 non-null  object \n",
      " 11  title                  22387 non-null  object \n",
      " 12  variety                22387 non-null  object \n",
      " 13  winery                 22387 non-null  object \n",
      "dtypes: float64(2), int64(1), object(11)\n",
      "memory usage: 2.6+ MB\n",
      "<class 'pandas.core.frame.DataFrame'>\n",
      "Int64Index: 22387 entries, 4 to 129950\n",
      "Data columns (total 14 columns):\n",
      " #   Column                 Non-Null Count  Dtype  \n",
      "---  ------                 --------------  -----  \n",
      " 0   Unnamed: 0             22387 non-null  float64\n",
      " 1   country                22387 non-null  object \n",
      " 2   description            22387 non-null  object \n",
      " 3   designation            22387 non-null  object \n",
      " 4   points                 22387 non-null  int64  \n",
      " 5   price                  22387 non-null  float64\n",
      " 6   province               22387 non-null  object \n",
      " 7   region_1               22387 non-null  object \n",
      " 8   region_2               22387 non-null  object \n",
      " 9   taster_name            22387 non-null  object \n",
      " 10  taster_twitter_handle  22387 non-null  object \n",
      " 11  title                  22387 non-null  object \n",
      " 12  variety                22387 non-null  object \n",
      " 13  winery                 22387 non-null  object \n",
      "dtypes: float64(2), int64(1), object(11)\n",
      "memory usage: 2.6+ MB\n"
     ]
    }
   ],
   "source": [
    "# This will show info about the data.\n",
    "df.info()\n",
    "\n",
    "\n",
    "# now we will replace missing values with NaN, then we will\n",
    "# delete all NaN entries later.\n",
    "\n",
    "df.isnull().sum()\n",
    "# now I will drop the null or missing values.\n",
    "df = df.dropna()\n",
    "\n",
    "df.isnull().sum()\n",
    "\n",
    "df.info()"
   ],
   "metadata": {
    "collapsed": false,
    "pycharm": {
     "name": "#%%\n"
    }
   }
  },
  {
   "cell_type": "markdown",
   "source": [
    "<h3>So I think this will suffice our first EDA process. I went through and just cleaned up\n",
    " all the null values. Now our data is clean for the initial pass. As we find errors in our data,\n",
    " we will revisit this notebook for further EDA.</h3>"
   ],
   "metadata": {
    "collapsed": false
   }
  }
 ],
 "metadata": {
  "kernelspec": {
   "display_name": "Python 3",
   "language": "python",
   "name": "python3"
  },
  "language_info": {
   "codemirror_mode": {
    "name": "ipython",
    "version": 2
   },
   "file_extension": ".py",
   "mimetype": "text/x-python",
   "name": "python",
   "nbconvert_exporter": "python",
   "pygments_lexer": "ipython2",
   "version": "2.7.6"
  }
 },
 "nbformat": 4,
 "nbformat_minor": 0
}